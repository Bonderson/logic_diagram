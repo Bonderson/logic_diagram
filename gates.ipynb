{
 "cells": [
  {
   "cell_type": "code",
   "execution_count": 2,
   "metadata": {},
   "outputs": [
    {
     "name": "stdout",
     "output_type": "stream",
     "text": [
      "pygame 2.0.1 (SDL 2.0.14, Python 3.7.3)\n",
      "Hello from the pygame community. https://www.pygame.org/contribute.html\n"
     ]
    }
   ],
   "source": [
    "import pygame as pg\n",
    "class Biba(pg.sprite.Sprite): #оболочка для вентилей, с помощью которой можно взаимодействовать с ними\n",
    "    def __init__(self, coord, filename, name):\n",
    "        self.name = name\n",
    "        pg.sprite.Sprite.__init__(self)\n",
    "        self.image = pg.image.load(filename).convert_alpha() # содержит отмасштабированную картинку\n",
    "        self.true_image = self.image.copy() # неизменное изображение\n",
    "        self.rect = self.image.get_rect(center = (coord[0],\n",
    "                                                  coord[1]))\n",
    "        self.offsets = [0,0]\n",
    "        self.size = [self.rect.right - self.rect.left, self.rect.bottom - self.rect.top]\n",
    "        \n",
    "    def update_offsets(self, coord):\n",
    "        self.offsets = [self.rect.center[0] - coord[0], self.rect.center[1] - coord[1]]\n",
    "        \n",
    "    def move(self, coord):\n",
    "        self.rect.move_ip(coord[0] + self.offsets[0] - self.rect.center[0],\n",
    "                          coord[1] + self.offsets[1] - self.rect.center[1])\n",
    "        #screen.blit(self.image, self.rect)"
   ]
  }
 ],
 "metadata": {
  "kernelspec": {
   "display_name": "Python 3",
   "language": "python",
   "name": "python3"
  },
  "language_info": {
   "codemirror_mode": {
    "name": "ipython",
    "version": 3
   },
   "file_extension": ".py",
   "mimetype": "text/x-python",
   "name": "python",
   "nbconvert_exporter": "python",
   "pygments_lexer": "ipython3",
   "version": "3.7.3"
  }
 },
 "nbformat": 4,
 "nbformat_minor": 2
}
