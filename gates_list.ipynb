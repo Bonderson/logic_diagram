{
 "cells": [
  {
   "cell_type": "code",
   "execution_count": 2,
   "metadata": {},
   "outputs": [],
   "source": [
    "class gates_list:\n",
    "    def __init__(self, width, height):\n",
    "        self.surface = pg.surface.Surface((width//3, height))\n",
    "        self.surface.fill((255,255,0))\n",
    "        self.gates_pool = list()\n",
    "    def redraw(self):\n",
    "        pass\n",
    "    def scroll(self):\n",
    "        speed = 10\n",
    "        pass\n",
    "    def click_lmouse():\n",
    "        pass\n",
    "    def object_movement():#???\n",
    "        pass"
   ]
  }
 ],
 "metadata": {
  "kernelspec": {
   "display_name": "Python 3",
   "language": "python",
   "name": "python3"
  },
  "language_info": {
   "codemirror_mode": {
    "name": "ipython",
    "version": 3
   },
   "file_extension": ".py",
   "mimetype": "text/x-python",
   "name": "python",
   "nbconvert_exporter": "python",
   "pygments_lexer": "ipython3",
   "version": "3.7.3"
  }
 },
 "nbformat": 4,
 "nbformat_minor": 2
}
