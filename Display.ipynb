{
 "cells": [
  {
   "cell_type": "code",
   "execution_count": 1,
   "metadata": {},
   "outputs": [],
   "source": [
    "class display:\n",
    "    def __init__(self, width, height):\n",
    "        self.m_screen = pg.display.set_mode((width, height))\n",
    "        pg.display.set_caption(\"Logic_scheme\")\n",
    "        #m_screen.fill((255,255,255))\n",
    "        self.l_screen = field(width, height)\n",
    "        #self.r_screen = gates_list(width, height)\n",
    "        self.redraw()\n",
    "    def redraw(self):\n",
    "        self.m_screen.fill((0,0,0))\n",
    "        #self.m_screen.blit(self.l_screen.surface, (self.l_screen.rect.left,self.l_screen.rect.top))\n",
    "        self.m_screen.blit(self.l_screen.surface, self.l_screen.rect)\n",
    "        #self.m_screen.blit(self.r_screen.surface, (width - width//3, 0))"
   ]
  }
 ],
 "metadata": {
  "kernelspec": {
   "display_name": "Python 3",
   "language": "python",
   "name": "python3"
  },
  "language_info": {
   "codemirror_mode": {
    "name": "ipython",
    "version": 3
   },
   "file_extension": ".py",
   "mimetype": "text/x-python",
   "name": "python",
   "nbconvert_exporter": "python",
   "pygments_lexer": "ipython3",
   "version": "3.7.3"
  }
 },
 "nbformat": 4,
 "nbformat_minor": 2
}
