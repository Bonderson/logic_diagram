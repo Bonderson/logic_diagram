{
 "cells": [
  {
   "cell_type": "code",
   "execution_count": 1,
   "metadata": {},
   "outputs": [
    {
     "name": "stdout",
     "output_type": "stream",
     "text": [
      "pygame 2.0.1 (SDL 2.0.14, Python 3.7.3)\n",
      "Hello from the pygame community. https://www.pygame.org/contribute.html\n"
     ]
    }
   ],
   "source": [
    "import pygame as pg\n",
    "import time\n",
    "from win32api import GetSystemMetrics"
   ]
  },
  {
   "cell_type": "code",
   "execution_count": null,
   "metadata": {},
   "outputs": [],
   "source": [
    "path_rect = \"rect.png\"\n",
    "Display = display(GetSystemMetrics(0)*3//4, GetSystemMetrics(1)*3//4)\n",
    "pg.init()\n",
    "runGame = True\n",
    "while runGame:\n",
    "    for event in pg.event.get():\n",
    "        if event.type == pg.QUIT: runGame = False\n",
    "            \n",
    "        if event.type == pg.MOUSEBUTTONUP:\n",
    "            Display.l_screen.moveobj = None\n",
    "            \n",
    "        if event.type == pg.MOUSEMOTION:\n",
    "            if Display.l_screen.moveobj:\n",
    "                Display.l_screen.move_obj(event.pos)\n",
    "                Display.redraw()\n",
    "        \n",
    "        if event.type == pg.MOUSEBUTTONDOWN:\n",
    "            if event.button == 1:\n",
    "                #if Display.l_screen.rect.collidepoint(event.pos):\n",
    "                Display.l_screen.click_lmouse(event.pos)\n",
    "                Display.redraw()\n",
    "            if event.button == 2:\n",
    "                Display.l_screen.create_object(event.pos)\n",
    "                Display.redraw()\n",
    "            if event.button == 3:\n",
    "                #if Display.l_screen.rect.collidepoint(event.pos):\n",
    "                Display.l_screen.click_rmouse(event.pos)\n",
    "                Display.redraw()\n",
    "        \n",
    "        if event.type == pg.KEYDOWN:\n",
    "            if event.key == pg.K_MINUS:\n",
    "                Display.l_screen.scale(-1)\n",
    "                Display.redraw()\n",
    "            if event.key == pg.K_EQUALS:\n",
    "                Display.l_screen.scale(1)\n",
    "                Display.redraw()\n",
    "    pg.display.update()\n",
    "pg.quit()"
   ]
  }
 ],
 "metadata": {
  "kernelspec": {
   "display_name": "Python 3",
   "language": "python",
   "name": "python3"
  },
  "language_info": {
   "codemirror_mode": {
    "name": "ipython",
    "version": 3
   },
   "file_extension": ".py",
   "mimetype": "text/x-python",
   "name": "python",
   "nbconvert_exporter": "python",
   "pygments_lexer": "ipython3",
   "version": "3.7.3"
  }
 },
 "nbformat": 4,
 "nbformat_minor": 2
}
